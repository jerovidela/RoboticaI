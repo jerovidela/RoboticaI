{
 "cells": [
  {
   "cell_type": "markdown",
   "id": "titulo-tp8",
   "metadata": {},
   "source": [
    "# TP8 — Planificación y Generación de Trayectorias\n",
    "## Robot: FARO Quantum Max ScanArm (referencia de aplicación)\n",
    "\n",
    "Este informe reúne las especificaciones iniciales, criterios y el plan de trabajo para generar y comparar trayectorias en espacio articular y cartesiano, con foco en simulación."
   ]
  },
  {
   "cell_type": "markdown",
   "id": "alcance-requisitos",
   "metadata": {},
   "source": [
    "## Alcance del TP y Requisitos\n",
    "1. Analizar el problema de planificación y generación de trayectorias considerando la aplicación.\n",
    "2. Establecer requisitos generales y específicos.\n",
    "3. Implementar al menos dos soluciones distintas:\n",
    "   - (a) Definir puntos en espacio cartesiano, transformar al espacio articular e interpolar.\n",
    "   - (b) Definir puntos en espacio articular, interpolar y verificar en cartesiano.\n",
    "4. Graficar perfiles de posición, velocidad y aceleración en espacio articular y cartesiano para ambas soluciones.\n",
    "5. Seleccionar la solución más adecuada y justificar."
   ]
  },
  {
   "cell_type": "markdown",
   "id": "robot-dh",
   "metadata": {},
   "source": [
    "## Robot Seleccionado y Parámetros DH\n",
    "- Grados de libertad: **6 GDL**.\n",
    "- Convención DH: **estándar**.\n",
    "- Unidades: **metros**.\n",
    "\n",
    "Parámetros DH propuestos (θ, d, a, α):\n",
    "\n",
    "$$\\begin{bmatrix}\n",
    "0 & 0.283 & 0     & -\\tfrac{\\pi}{2} \\ \\ \n",
    "0 & 0     & 0.398 & 0                \\ \\ \n",
    "0 & 0     & 0.213 & 0                \\ \\ \n",
    "0 & 0     & 0     & \\tfrac{\\pi}{2}  \\ \\ \n",
    "0 & 0.025 & 0.213 & \\tfrac{\\pi}{2}  \\ \\ \n",
    "0 & 0.166 & 0     & 0\n",
    "\\end{bmatrix}$$\n",
    "\n",
    "Nota: se asume DH estándar. Los ceros mecánicos y signos de giro se ajustarán al modelo MATLAB al validar la cinemática."
   ]
  },
  {
   "cell_type": "markdown",
   "id": "especificaciones-criterios",
   "metadata": {},
   "source": [
    "## Especificaciones y Criterios de Diseño\n",
    "- Límites articulares iniciales: **[-180°, +180°]** en las 6 articulaciones (a revisar).\n",
    "- Postura Home: **‘Rectángulo Abierto’** con q3 = q4 = q5 = +90°; resto en 0° (ajustable).\n",
    "- Offsets/ceros de articulación: **a definir**.\n",
    "- Dinámica: **no considerada** (solo cinemática).\n",
    "- Entorno/Frames: `T_base` y `T_tool` **a definir**.\n",
    "- Tarea: escaneo de **superficie compleja**; primera iteración sobre **placa de tamaño medio**.\n",
    "- Estrategia de movimiento: **priorizar fluidez** sobre velocidad máxima.\n",
    "- Velocidad cartesiana objetivo: **a definir**.\n",
    "- Distancia de standoff y cono de orientación del sensor: **a definir**."
   ]
  },
  {
   "cell_type": "markdown",
   "id": "soluciones-a-implementar",
   "metadata": {},
   "source": [
    "## Soluciones a Implementar\n",
    "- Espacio articular: definición de puntos en q y **interpolación polinómica de 5º orden** (condiciones típicas de reposo). Verificación cartesiana de la trayectoria obtenida.\n",
    "- Espacio cartesiano: interpolación en **SE(3)** (posiciones + orientaciones) y resolución de IK con **`cin_inv_Faro.m`**. Chequeo de límites articulares y continuidad."
   ]
  },
  {
   "cell_type": "markdown",
   "id": "implementacion-entregables",
   "metadata": {},
   "source": [
    "## Implementación y Entregables\n",
    "- Entorno: **MATLAB** con Robotics Toolbox de **Peter Corke**.\n",
    "- IK: función **`cin_inv_Faro.m`** del proyecto.\n",
    "- Alcance: **simulación** (sin ejecución en hardware).\n",
    "- Gráficas: perfiles de q(t), dq(t), ddq(t) por articulación con **colores diferenciados**; además trayectorias cartesianas.\n",
    "- Criterio de comparación: suavidad (C1/C2), cumplimiento de límites, ausencia de singularidades y desviación respecto a la tarea."
   ]
  },
  {
   "cell_type": "markdown",
   "id": "pendientes",
   "metadata": {},
   "source": [
    "## Pendientes\n",
    "- Especificar límites de **velocidad** y **aceleración** por articulación.\n",
    "- Definir `T_base` y `T_tool` acorde al montaje de escaneo.\n",
    "- Definir waypoints/cartesianos para la **placa** y la estrategia de cobertura.\n",
    "- Política de rama de IK y manejo de singularidades.\n",
    "- Validar/ajustar la matriz **DH** definitiva en el modelo MATLAB."
   ]
  }
 ],
 "metadata": {
  "language_info": {
   "name": "python"
  }
 },
 "nbformat": 4,
 "nbformat_minor": 5
}

